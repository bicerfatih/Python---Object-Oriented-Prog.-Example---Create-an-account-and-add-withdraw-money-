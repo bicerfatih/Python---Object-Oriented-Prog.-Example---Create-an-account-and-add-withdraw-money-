{
 "cells": [
  {
   "cell_type": "code",
   "execution_count": 74,
   "id": "50d3eb11",
   "metadata": {},
   "outputs": [],
   "source": [
    "class bankAccount():\n",
    "    def __init__(self,name,money):\n",
    "        self.name = name\n",
    "        self.money = money \n",
    "    def add_money(self,amount):\n",
    "        self.money = self.money + amount\n",
    "\n",
    "        print ('{} added to your account'.format(amount))\n",
    "    def withdrow(self,amount2):\n",
    "        if (self.money >= amount2):\n",
    "            self.money = self.money - amount2\n",
    "            print ('{} withdrowed from your account'.format(amount2))\n",
    "        else:\n",
    "            print ('you have no sufficiant amount in your account to withdrow {} Eur'.format(amount2))\n",
    "    def __str__ (self):\n",
    "        return f\"Account owner's name is {self.name}, current balance is {self.money}\"\n",
    "        "
   ]
  },
  {
   "cell_type": "code",
   "execution_count": 75,
   "id": "63413948",
   "metadata": {},
   "outputs": [],
   "source": [
    "my_account = bankAccount('Fatih', 100000)"
   ]
  },
  {
   "cell_type": "code",
   "execution_count": 76,
   "id": "e1ff10dc",
   "metadata": {},
   "outputs": [
    {
     "name": "stdout",
     "output_type": "stream",
     "text": [
      "10000 added to your account\n"
     ]
    }
   ],
   "source": [
    "my_account.add_money(10000)"
   ]
  },
  {
   "cell_type": "code",
   "execution_count": 77,
   "id": "3a79e1d5",
   "metadata": {},
   "outputs": [
    {
     "name": "stdout",
     "output_type": "stream",
     "text": [
      "Account owner's name is Fatih, current balance is 110000\n"
     ]
    }
   ],
   "source": [
    "print(my_account)"
   ]
  },
  {
   "cell_type": "code",
   "execution_count": 78,
   "id": "881156eb",
   "metadata": {},
   "outputs": [
    {
     "name": "stdout",
     "output_type": "stream",
     "text": [
      "you have no sufficiant amount in your account to withdrow 120000 Eur\n"
     ]
    }
   ],
   "source": [
    "my_account.withdrow(120000)"
   ]
  },
  {
   "cell_type": "code",
   "execution_count": 79,
   "id": "7055fa59",
   "metadata": {},
   "outputs": [
    {
     "name": "stdout",
     "output_type": "stream",
     "text": [
      "Account owner's name is Fatih, current balance is 110000\n"
     ]
    }
   ],
   "source": [
    "print(my_account)"
   ]
  },
  {
   "cell_type": "code",
   "execution_count": 80,
   "id": "9a1880c3",
   "metadata": {},
   "outputs": [
    {
     "name": "stdout",
     "output_type": "stream",
     "text": [
      "50000 withdrowed from your account\n"
     ]
    }
   ],
   "source": [
    "my_account.withdrow(50000)"
   ]
  },
  {
   "cell_type": "code",
   "execution_count": 81,
   "id": "16ee9494",
   "metadata": {},
   "outputs": [
    {
     "name": "stdout",
     "output_type": "stream",
     "text": [
      "Account owner's name is Fatih, current balance is 60000\n"
     ]
    }
   ],
   "source": [
    "print(my_account)"
   ]
  },
  {
   "cell_type": "code",
   "execution_count": null,
   "id": "032d2e40",
   "metadata": {},
   "outputs": [],
   "source": []
  },
  {
   "cell_type": "code",
   "execution_count": null,
   "id": "decef9c6",
   "metadata": {},
   "outputs": [],
   "source": []
  },
  {
   "cell_type": "code",
   "execution_count": null,
   "id": "5806e691",
   "metadata": {},
   "outputs": [],
   "source": []
  },
  {
   "cell_type": "code",
   "execution_count": null,
   "id": "fe075326",
   "metadata": {},
   "outputs": [],
   "source": []
  },
  {
   "cell_type": "code",
   "execution_count": null,
   "id": "10867e90",
   "metadata": {},
   "outputs": [],
   "source": []
  },
  {
   "cell_type": "code",
   "execution_count": null,
   "id": "3e9f30c8",
   "metadata": {},
   "outputs": [],
   "source": []
  },
  {
   "cell_type": "code",
   "execution_count": null,
   "id": "dbee640c",
   "metadata": {},
   "outputs": [],
   "source": []
  },
  {
   "cell_type": "code",
   "execution_count": null,
   "id": "18db4a8f",
   "metadata": {},
   "outputs": [],
   "source": []
  }
 ],
 "metadata": {
  "kernelspec": {
   "display_name": "Python 3 (ipykernel)",
   "language": "python",
   "name": "python3"
  },
  "language_info": {
   "codemirror_mode": {
    "name": "ipython",
    "version": 3
   },
   "file_extension": ".py",
   "mimetype": "text/x-python",
   "name": "python",
   "nbconvert_exporter": "python",
   "pygments_lexer": "ipython3",
   "version": "3.9.12"
  }
 },
 "nbformat": 4,
 "nbformat_minor": 5
}
